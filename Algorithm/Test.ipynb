{
 "cells": [
  {
   "cell_type": "code",
   "execution_count": 19,
   "metadata": {},
   "outputs": [],
   "source": [
    "# Recibir el tamaño de la lista de números a evaluar\n",
    "n = int(input(5))\n",
    "\n",
    "# Recibir los números de la lista, separados por espacio\n",
    "database = list(map(int, input([2,4,5,7,9]).split()))\n",
    "\n",
    "# Recibir el número de consultas\n",
    "q = int(input(4))\n",
    "\n",
    "# Recibir las consultas, separadas por espacio\n",
    "queries = list(map(int, input([2,5,6,10]).split()))\n"
   ]
  },
  {
   "cell_type": "code",
   "execution_count": 15,
   "metadata": {},
   "outputs": [],
   "source": [
    "#Función para encontrar el número más cercano\n",
    "import bisect\n",
    "\n",
    "def find_closest(database, number):\n",
    "    # Usar búsqueda binaria para encontrar el índice de inserción\n",
    "    idx = bisect.bisect_left(database, number)\n",
    "    \n",
    "    # Buscar el mayor número menor que el consultado\n",
    "    lower = database[idx - 1] if idx > 0 else 'X'\n",
    "    \n",
    "    # Buscar el menor número mayor que el consultado\n",
    "    upper = database[idx] if idx < len(database) and database[idx] != number else (\n",
    "        database[idx + 1] if idx + 1 < len(database) else 'X'\n",
    "    )\n",
    "    \n",
    "    return lower, upper\n"
   ]
  },
  {
   "cell_type": "code",
   "execution_count": 20,
   "metadata": {},
   "outputs": [
    {
     "name": "stdout",
     "output_type": "stream",
     "text": [
      "2 5\n",
      "2 6\n",
      "6 X\n",
      "6 X\n"
     ]
    }
   ],
   "source": [
    "#Proceso de Consultas   \n",
    "for query in queries:\n",
    "    lower, upper = find_closest(database, query)\n",
    "    print(lower, upper)\n"
   ]
  }
 ],
 "metadata": {
  "kernelspec": {
   "display_name": "Python 3",
   "language": "python",
   "name": "python3"
  },
  "language_info": {
   "codemirror_mode": {
    "name": "ipython",
    "version": 3
   },
   "file_extension": ".py",
   "mimetype": "text/x-python",
   "name": "python",
   "nbconvert_exporter": "python",
   "pygments_lexer": "ipython3",
   "version": "3.11.9"
  }
 },
 "nbformat": 4,
 "nbformat_minor": 2
}
